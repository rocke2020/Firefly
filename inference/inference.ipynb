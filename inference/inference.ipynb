{
 "cells": [
  {
   "cell_type": "code",
   "execution_count": 1,
   "metadata": {},
   "outputs": [
    {
     "name": "stderr",
     "output_type": "stream",
     "text": [
      "/home/qcdong/anaconda3/envs/ll/lib/python3.10/site-packages/tqdm/auto.py:21: TqdmWarning: IProgress not found. Please update jupyter and ipywidgets. See https://ipywidgets.readthedocs.io/en/stable/user_install.html\n",
      "  from .autonotebook import tqdm as notebook_tqdm\n",
      "Loading checkpoint shards: 100%|██████████| 3/3 [01:32<00:00, 30.67s/it]\n"
     ]
    }
   ],
   "source": [
    "from transformers import AutoModelForCausalLM, AutoTokenizer, BitsAndBytesConfig\n",
    "import torch\n",
    "import pandas as pd\n",
    "import os\n",
    "from pathlib import Path\n",
    "\n",
    "\n",
    "model_name_or_path = \"/mnt/nas1/models/llama/merged_models/llama2-7b-ner-chem_gene3\"\n",
    "device_map = \"auto\"\n",
    "# if we are in a distributed setting, we need to set the device map and max memory per device\n",
    "if os.environ.get('LOCAL_RANK') is not None:\n",
    "    local_rank = int(os.environ.get('LOCAL_RANK', '0'))\n",
    "    device_map = {'': local_rank}\n",
    "\n",
    "tokenizer = AutoTokenizer.from_pretrained(model_name_or_path)\n",
    "model = AutoModelForCausalLM.from_pretrained(\n",
    "        model_name_or_path,\n",
    "        device_map=device_map,\n",
    "        load_in_4bit=True,\n",
    "        torch_dtype=torch.float16,\n",
    "        trust_remote_code=True,\n",
    "        quantization_config=BitsAndBytesConfig(\n",
    "            load_in_4bit=True,\n",
    "            bnb_4bit_compute_dtype=torch.float16,\n",
    "            bnb_4bit_use_double_quant=True,\n",
    "            bnb_4bit_quant_type=\"nf4\",\n",
    "            llm_int8_threshold=6.0,\n",
    "            llm_int8_has_fp16_weight=False,\n",
    "        ),\n",
    "    )\n",
    "\n",
    "\n",
    "file = Path('/mnt/nas1/corpus-bio-nlp/NER/PGx_CTD_chem_x_gene.csv')\n",
    "df_pgx_ctd = pd.read_csv(file, dtype=str)\n"
   ]
  },
  {
   "cell_type": "code",
   "execution_count": 2,
   "metadata": {},
   "outputs": [],
   "source": [
    "question = (\n",
    "    \"{sentence}\"\n",
    "    \"\\n---------------\\n\"\n",
    "    \"please extract all Chemical and Gene in the above text, \"\n",
    "    \"Gene includes gene or protein, excluding Limited variation, Genomic variation, Genomic factor, Haplotype. \"\n",
    "    \"Chemical includes chemical, drug and amino acid, excluding disease.\"\n",
    "    \"The output format should be '<starting index in sentence, ending index in sentence, entity name, entity type>' .\")\n",
    "df_pgx_ctd = df_pgx_ctd.drop_duplicates(subset=[\"sentence\"])\n",
    "df_pgx_ctd[\"prompt\"] = df_pgx_ctd[\"sentence\"].apply(lambda x: question.format(sentence=x))"
   ]
  },
  {
   "cell_type": "code",
   "execution_count": 3,
   "metadata": {},
   "outputs": [
    {
     "name": "stdout",
     "output_type": "stream",
     "text": [
      "Among controls , we found women with the A2/A2 genotype to have elevated levels of estrone ( +14.3 % , P = 0.01 ) , estradiol ( +13.8 % , P = 0.08 ) , testosterone ( +8.6 % , P = 0.34 ) , androstenedione ( +17.1 % , P = 0.06 ) , dehydroepiandrosterone ( +14.4 % , P = 0.02 ) , and dehydroepiandrosterone sulfate ( +7.2 % , P = 0.26 ) compared with women with the A1/A1 genotype .\n",
      "---------------\n",
      "please extract all Chemical and Gene in the above text, Gene includes gene or protein, excluding Limited variation, Genomic variation, Genomic factor, Haplotype. Chemical includes chemical, drug and amino acid, excluding disease.The output format should be '<starting index in sentence, ending index in sentence, entity name, entity type>' .\n",
      "<129, 140, testosterone, Chemical>, <105, 126, androstenedione, Chemical>, <150, 196, dehydroepiandrosterone, Chemical>, <199, 230, dehydroepiandrosterone sulfate, Chemical>, <155, 173, estrone, Chemical>, <176, 187, estradiol, Chemical>, <147, 153, A1, Gene>, <148, 152, A1, Gene>, <132, 145, androstenedione, Chemical></s>\n",
      "<129, 140, testosterone, Chemical>, <105, 126, androstenedione, Chemical>, <150, 196, dehydroepiandrosterone, Chemical>, <199, 230, dehydroepiandrosterone sulfate, Chemical>, <155, 173, estrone, Chemical>, <176, 187, estradiol, Chemical>, <147, 153, A1, Gene>, <148, 152, A1, Gene>, <132, 145, androstenedione, Chemical>\n"
     ]
    }
   ],
   "source": [
    "def chat_ner(x):\n",
    "    input_pattern = '<s>{}</s>'\n",
    "    text = x.strip()\n",
    "    text = input_pattern.format(text)\n",
    "    input_ids = tokenizer(text, return_tensors=\"pt\", add_special_tokens=False).input_ids.cuda()\n",
    "    with torch.no_grad():\n",
    "        outputs = model.generate(\n",
    "            input_ids=input_ids, max_new_tokens=500, do_sample=False,\n",
    "            top_p=1, temperature=1, repetition_penalty=1,\n",
    "            eos_token_id=tokenizer.eos_token_id\n",
    "        )\n",
    "    outputs = outputs.tolist()[0][len(input_ids[0]):]\n",
    "    response = tokenizer.decode(outputs)\n",
    "    print(response)\n",
    "    response = response.replace('</s>', \"\").strip()\n",
    "    return response\n",
    "\n",
    "input1 = df_pgx_ctd[\"prompt\"][0]\n",
    "print(input1)\n",
    "r = chat_ner(input1)\n",
    "print(r)"
   ]
  },
  {
   "cell_type": "code",
   "execution_count": 5,
   "metadata": {},
   "outputs": [
    {
     "name": "stderr",
     "output_type": "stream",
     "text": [
      "Loading checkpoint shards: 100%|██████████| 3/3 [00:11<00:00,  3.71s/it]\n"
     ]
    },
    {
     "name": "stdout",
     "output_type": "stream",
     "text": [
      "<105, 111, estrone, Chemical>, <105, 111, estradiol, Chemical>, <105, 111, testosterone, Chemical>, <105, 111, androstenedione, Chemical>, <105, 111, dehydroepiandrosterone, Chemical>, <105, 111, dehydroepiandrosterone sulfate, Chemical></s>\n",
      "<105, 111, estrone, Chemical>, <105, 111, estradiol, Chemical>, <105, 111, testosterone, Chemical>, <105, 111, androstenedione, Chemical>, <105, 111, dehydroepiandrosterone, Chemical>, <105, 111, dehydroepiandrosterone sulfate, Chemical>\n"
     ]
    }
   ],
   "source": [
    "model_name_or_path_e3 = \"/mnt/nas1/models/llama/merged_models/llama2-7b-ner-chem_gene-e3s6\"\n",
    "\n",
    "tokenizer_e3 = AutoTokenizer.from_pretrained(model_name_or_path_e3)\n",
    "model_e3 = AutoModelForCausalLM.from_pretrained(\n",
    "        model_name_or_path_e3,\n",
    "        device_map=device_map,\n",
    "        load_in_4bit=True,\n",
    "        torch_dtype=torch.float16,\n",
    "        trust_remote_code=True,\n",
    "        quantization_config=BitsAndBytesConfig(\n",
    "            load_in_4bit=True,\n",
    "            bnb_4bit_compute_dtype=torch.float16,\n",
    "            bnb_4bit_use_double_quant=True,\n",
    "            bnb_4bit_quant_type=\"nf4\",\n",
    "            llm_int8_threshold=6.0,\n",
    "            llm_int8_has_fp16_weight=False,\n",
    "        ),\n",
    "    )\n",
    "\n",
    "def chat_ner2(x):\n",
    "    input_pattern = '<s>{}</s>'\n",
    "    text = x.strip()\n",
    "    text = input_pattern.format(text)\n",
    "    input_ids = tokenizer(text, return_tensors=\"pt\", add_special_tokens=False).input_ids.cuda()\n",
    "    with torch.no_grad():\n",
    "        outputs = model_e3.generate(\n",
    "            input_ids=input_ids, max_new_tokens=500, do_sample=False,\n",
    "            top_p=1, temperature=1, repetition_penalty=1,\n",
    "            eos_token_id=tokenizer.eos_token_id\n",
    "        )\n",
    "    outputs = outputs.tolist()[0][len(input_ids[0]):]\n",
    "    response = tokenizer.decode(outputs)\n",
    "    print(response)\n",
    "    response = response.replace('</s>', \"\").strip()\n",
    "    return response\n",
    "\n",
    "r = chat_ner2(input1)\n",
    "print(r)"
   ]
  }
 ],
 "metadata": {
  "kernelspec": {
   "display_name": "ll",
   "language": "python",
   "name": "python3"
  },
  "language_info": {
   "codemirror_mode": {
    "name": "ipython",
    "version": 3
   },
   "file_extension": ".py",
   "mimetype": "text/x-python",
   "name": "python",
   "nbconvert_exporter": "python",
   "pygments_lexer": "ipython3",
   "version": "3.10.13"
  }
 },
 "nbformat": 4,
 "nbformat_minor": 2
}
